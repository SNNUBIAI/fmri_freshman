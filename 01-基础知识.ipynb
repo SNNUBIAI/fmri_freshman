{
 "cells": [
  {
   "cell_type": "markdown",
   "metadata": {},
   "source": [
    "# 目前对fmri图像的理解\n",
    "此处仅导入接下来演示所需要的库"
   ]
  },
  {
   "cell_type": "code",
   "execution_count": 2,
   "metadata": {},
   "outputs": [
    {
     "name": "stderr",
     "output_type": "stream",
     "text": [
      "C:\\Users\\86189\\AppData\\Roaming\\Python\\Python36\\site-packages\\nilearn\\datasets\\__init__.py:96: FutureWarning: Fetchers from the nilearn.datasets module will be updated in version 0.9 to return python strings instead of bytes and Pandas dataframes instead of Numpy arrays.\n",
      "  \"Numpy arrays.\", FutureWarning)\n"
     ]
    }
   ],
   "source": [
    "import numpy as np\n",
    "import nilearn\n",
    "from nilearn.input_data import NiftiMasker\n",
    "import nibabel as nib\n",
    "import matplotlib.pyplot as plt\n",
    "\n",
    "import os\n",
    "import random\n",
    "import math\n",
    "import time"
   ]
  },
  {
   "cell_type": "markdown",
   "metadata": {},
   "source": [
    "## ADHD-200数据集\n",
    "我们计划使用ADHD-200数据集作为今后开展研究课题的数据。（并不一定也有可能会使用HCP900）<br>\n",
    "ADHD-200是一个多动症病人的数据集，里面的图像内容包含四种不同的分类，分为以下四类(中文为机翻，具体是否如此有待考察)：<br>\n",
    "Typically-Developing Controls 典型开发控件<br>\n",
    "ADHD Combined 多动症结合<br>\n",
    "ADHD Inattentive 注意力不集中的多动症<br>\n",
    "ADHD Hyperactive 多动症多动症<br>\n",
    "每一张图像都有对应的dmri，和fmri的图像，其中dmri只有三个维度，也就是只有$（x，y，z）$三个坐标方向。fmri则加上了时间维度，一共有四个维度$（x，y，z，t）$\n",
    "\n",
    "### 为什么选择ADHD-200\n",
    "- 相对于HCP900，ADHD-200数据集更小，下载使用更为方便，完整的ADHD200数据集仅82G，而完整的HCP900以TB计算。\n",
    "- ADHD数据集有明确的目标，对多动症病人进行分类，分类任务是一个较容易理解的任务。\n",
    "\n",
    "### ADHD-200数据集下载\n",
    "ADHD-200数据集下载方式有两种，一种是完整的在官网下载所有数据集[下载链接](https://www.nitrc.org/ir/app/template/XDATScreen_report_xnat_projectData.vm/search_element/xnat:projectData/search_field/xnat:projectData.ID/search_value/adhd_200)。另一种是通过nilearn下载，但是通过nilearn下载的数据是不完整的，最多只能包含40个图像，以下是如何通过nilearn下载数据。<br>\n",
    "```\n",
    "#将会下载1G数据，而且网不好容易断掉，此处不做演示\n",
    "from nilearn import datasets\n",
    "adhd_dataset = datasets.fetch_adhd(n_subjects=40, \"在此填写下载到具体哪个位置\")\n",
    "```"
   ]
  },
  {
   "cell_type": "markdown",
   "metadata": {},
   "source": [
    "通过nilearn下载的数据和在官网下载的数据并不一样，经过我的观察体现在nilearn下载的数据是经过处理的图像，所有图像统一了size大小和时间步长短。"
   ]
  },
  {
   "cell_type": "code",
   "execution_count": 15,
   "metadata": {},
   "outputs": [
    {
     "data": {
      "text/plain": [
       "(61, 73, 61, 176)"
      ]
     },
     "execution_count": 15,
     "metadata": {},
     "output_type": "execute_result"
    }
   ],
   "source": [
    "img = nib.load(\"../stAAE/data/adhd/data/0010042/0010042_rest_tshift_RPI_voreg_mni.nii.gz\")\n",
    "img.shape #nilearn下载的图像size"
   ]
  },
  {
   "cell_type": "markdown",
   "metadata": {},
   "source": [
    "此数据集包含Brown，KKI，NeuroIMAGE，NYU，OHSU，Peking，Pittsburgh，WashU多个不同组织上传的数据，其中每个组织上传的数据尺寸都各不相同。表现的颇为混乱。以下代码输出：左为图像size和时间步，右为这样形状的图像个数。"
   ]
  },
  {
   "cell_type": "code",
   "execution_count": 4,
   "metadata": {},
   "outputs": [
    {
     "data": {
      "text/plain": [
       "{(160, 240, 256): 147,\n",
       " (64, 64, 35, 251): 26,\n",
       " (256, 200, 256): 86,\n",
       " (96, 96, 47, 152): 28,\n",
       " (96, 96, 47, 124): 54,\n",
       " (256, 180, 256): 7,\n",
       " (112, 112, 47, 152): 1,\n",
       " (96, 96, 47, 123): 3,\n",
       " (96, 96, 47, 151): 7,\n",
       " (96, 96, 47, 157): 1,\n",
       " (256, 190, 256): 1,\n",
       " (176, 256, 256): 132,\n",
       " (64, 64, 37, 261): 63,\n",
       " (64, 64, 35, 261): 5,\n",
       " (64, 64, 37, 260): 5,\n",
       " (128, 256, 256): 400,\n",
       " (64, 80, 33, 176): 396,\n",
       " (64, 80, 33, 175): 41,\n",
       " (64, 64, 36, 78): 233,\n",
       " (64, 64, 36, 76): 3,\n",
       " (64, 64, 36, 77): 34,\n",
       " (46, 240, 256): 1,\n",
       " (64, 64, 36, 59): 1,\n",
       " (64, 64, 33, 235): 51,\n",
       " (176, 512, 512): 20,\n",
       " (64, 64, 30, 236): 42,\n",
       " (176, 208, 256): 67,\n",
       " (64, 64, 33, 236): 152,\n",
       " (192, 256, 256): 20,\n",
       " (128, 240, 256): 1,\n",
       " (208, 256, 176): 89,\n",
       " (64, 64, 29, 196): 89,\n",
       " (64, 64, 46, 123): 9,\n",
       " (64, 64, 32, 76): 24,\n",
       " (64, 64, 32, 133): 35,\n",
       " (64, 64, 32, 132): 112,\n",
       " (256, 256, 256): 2}"
      ]
     },
     "execution_count": 4,
     "metadata": {},
     "output_type": "execute_result"
    }
   ],
   "source": [
    "d = {}\n",
    "root = \"../../ADHD/whataboutmystar-20220130_215152/\"\n",
    "dir_names = os.listdir(root)\n",
    "\n",
    "#此处是一个深度优先搜索，用以遍历目录中所有nii.gz的mri图像\n",
    "def DFS(path):\n",
    "    if os.path.isdir(path):\n",
    "        dir_names = os.listdir(path)\n",
    "        for name in dir_names:\n",
    "            DFS(path + '/' + name)\n",
    "    elif path.endswith(\".gz\"):\n",
    "        data = nib.load(path)\n",
    "        d[data.shape] = d.get(data.shape, 0) + 1\n",
    "    else:\n",
    "        return\n",
    "    \n",
    "    return\n",
    "\n",
    "for name in dir_names:\n",
    "    DFS(root + name)\n",
    "d"
   ]
  },
  {
   "cell_type": "markdown",
   "metadata": {},
   "source": [
    "由上输出可知无论是时间步还是图像size都不一样，需要经过处理才能使用。具体说来是把图像size处理成同样大小，图像时间步也处理成同样大小。"
   ]
  },
  {
   "cell_type": "markdown",
   "metadata": {},
   "source": [
    "## fmri图像本质探究\n",
    "\n",
    "已知现实生活中的彩色图像也就是RGB图像是二维图像，由三个颜色通道叠加在一起组成，每个颜色通道都是一个二维网格。每个网格上都有一个像素点，像素大小只能是0-255。<br>\n",
    "但是核磁共振图像则不一样，核磁共振是三维的图像，每个图像由一个三维网格组成，每个网格就是一个小正方体，每个正方体就是一个体素，每个体素和像素的概念是对应的，包含有一个具体的值，只不过像素的值只能是0-255（灰度图除外），fmri的体素应该是代表信号的强度，大脑的活跃程度。数值不知道最高能多少，我最高见过高达40000多的值。最低的值也有达到负数的。\n",
    "![voxel](./img/voxel.png)"
   ]
  },
  {
   "cell_type": "code",
   "execution_count": 16,
   "metadata": {},
   "outputs": [
    {
     "data": {
      "text/plain": [
       "0.0"
      ]
     },
     "execution_count": 16,
     "metadata": {},
     "output_type": "execute_result"
    }
   ],
   "source": [
    "data = img.get_fdata()\n",
    "data.min()"
   ]
  },
  {
   "cell_type": "code",
   "execution_count": 18,
   "metadata": {},
   "outputs": [
    {
     "data": {
      "text/plain": [
       "24359.931640625"
      ]
     },
     "execution_count": 18,
     "metadata": {},
     "output_type": "execute_result"
    }
   ],
   "source": [
    "data.max()"
   ]
  }
 ],
 "metadata": {
  "kernelspec": {
   "display_name": "Python 3",
   "language": "python",
   "name": "python3"
  },
  "language_info": {
   "codemirror_mode": {
    "name": "ipython",
    "version": 3
   },
   "file_extension": ".py",
   "mimetype": "text/x-python",
   "name": "python",
   "nbconvert_exporter": "python",
   "pygments_lexer": "ipython3",
   "version": "3.6.10"
  }
 },
 "nbformat": 4,
 "nbformat_minor": 4
}

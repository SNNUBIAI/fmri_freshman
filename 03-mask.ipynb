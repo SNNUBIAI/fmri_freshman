{
 "cells": [
  {
   "cell_type": "markdown",
   "metadata": {},
   "source": [
    "# Using mask to preprocess fMRI signals"
   ]
  },
  {
   "cell_type": "code",
   "execution_count": 3,
   "metadata": {},
   "outputs": [],
   "source": [
    "import numpy as np\n",
    "import nilearn\n",
    "from nilearn.input_data import NiftiMasker\n",
    "from nilearn.masking import compute_epi_mask\n",
    "from nilearn.image import resample_to_img, load_img\n",
    "import nibabel as nib\n",
    "import matplotlib.pyplot as plt\n",
    "\n",
    "import os\n",
    "import random\n",
    "import math\n",
    "import time"
   ]
  },
  {
   "cell_type": "markdown",
   "metadata": {},
   "source": [
    "### mask\n",
    "\n",
    "mask是一个全部由0和1组成的nii文件。具体的含义是对应的图像位置是0就丢弃，1就保留。因为原始的nii图像非常的大，体素点很多，涉及到的计算量会非常大，mask丢弃了很多无关紧要的部分，只保留了大脑图像，有利于只关注重点区域，减少计算量。\n",
    "- 注意！之所以能用mask对fMRI图像进行处理，这是因为fMRI图像事先进行了预处理，尤其是对原始的fMRI图像进行了配准，将其配准到了标准空间。如果没有经过预处理的图像，是无法直接使用mask的方法的。"
   ]
  },
  {
   "cell_type": "code",
   "execution_count": 6,
   "metadata": {},
   "outputs": [
    {
     "data": {
      "text/plain": [
       "NiftiMasker(detrend=1, mask_img='../stAAE/data/ADHD200_mask_152_4mm.nii.gz',\n",
       "            smoothing_fwhm=6.0, standardize=True)"
      ]
     },
     "execution_count": 6,
     "metadata": {},
     "output_type": "execute_result"
    }
   ],
   "source": [
    "mask_img = \"../stAAE/data/ADHD200_mask_152_4mm.nii.gz\"\n",
    "masker = NiftiMasker(mask_img=mask_img, \n",
    "                     standardize=True,\n",
    "                     detrend=1,\n",
    "                     smoothing_fwhm=6.)\n",
    "masker.fit()"
   ]
  },
  {
   "cell_type": "code",
   "execution_count": 10,
   "metadata": {},
   "outputs": [
    {
     "data": {
      "text/plain": [
       "(61, 73, 61, 176)"
      ]
     },
     "execution_count": 10,
     "metadata": {},
     "output_type": "execute_result"
    }
   ],
   "source": [
    "nii_img = \"../stAAE/data/adhd/data/0010042/0010042_rest_tshift_RPI_voreg_mni.nii.gz\"\n",
    "img = load_img(nii_img)\n",
    "img.shape"
   ]
  },
  {
   "cell_type": "code",
   "execution_count": 11,
   "metadata": {},
   "outputs": [
    {
     "data": {
      "text/plain": [
       "(49, 58, 47)"
      ]
     },
     "execution_count": 11,
     "metadata": {},
     "output_type": "execute_result"
    }
   ],
   "source": [
    "mask = load_img(mask_img)\n",
    "mask.shape"
   ]
  },
  {
   "cell_type": "code",
   "execution_count": 14,
   "metadata": {},
   "outputs": [
    {
     "data": {
      "text/plain": [
       "28546.0"
      ]
     },
     "execution_count": 14,
     "metadata": {},
     "output_type": "execute_result"
    }
   ],
   "source": [
    "mask.get_fdata().sum()"
   ]
  },
  {
   "cell_type": "markdown",
   "metadata": {},
   "source": [
    "mask里面有28546个体素值是1，意思是保留这28546个体素的位置的值。将fMRI的图像通过mask转换成1D的fMRI信号就是只保留了28546个值了，fMRI图像一共有176个时间步，所以转换后的size是$(176,28546)$"
   ]
  },
  {
   "cell_type": "code",
   "execution_count": 15,
   "metadata": {},
   "outputs": [
    {
     "data": {
      "text/plain": [
       "(176, 28546)"
      ]
     },
     "execution_count": 15,
     "metadata": {},
     "output_type": "execute_result"
    }
   ],
   "source": [
    "fmri_masked = masker.transform(img)\n",
    "fmri_masked.shape"
   ]
  },
  {
   "cell_type": "markdown",
   "metadata": {},
   "source": [
    "通过masker还可以将1D的fMRI信号还原成3D的图像，还原后的图像和mask是同样大小的。"
   ]
  },
  {
   "cell_type": "code",
   "execution_count": 16,
   "metadata": {},
   "outputs": [
    {
     "data": {
      "text/plain": [
       "(49, 58, 47, 176)"
      ]
     },
     "execution_count": 16,
     "metadata": {},
     "output_type": "execute_result"
    }
   ],
   "source": [
    "img = masker.inverse_transform(fmri_masked)\n",
    "img.shape"
   ]
  },
  {
   "cell_type": "markdown",
   "metadata": {},
   "source": [
    "如果要应用深度学习做fMRI信号处理可以考虑使用3D信号作为输入，也可以考虑使用1D信号作为输入，以上是将nii图像处理为1D或者3D信号的方法。"
   ]
  }
 ],
 "metadata": {
  "kernelspec": {
   "display_name": "Python 3",
   "language": "python",
   "name": "python3"
  },
  "language_info": {
   "codemirror_mode": {
    "name": "ipython",
    "version": 3
   },
   "file_extension": ".py",
   "mimetype": "text/x-python",
   "name": "python",
   "nbconvert_exporter": "python",
   "pygments_lexer": "ipython3",
   "version": "3.6.10"
  }
 },
 "nbformat": 4,
 "nbformat_minor": 4
}
